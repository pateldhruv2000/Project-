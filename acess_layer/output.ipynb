{
 "cells": [
  {
   "cell_type": "code",
   "execution_count": 60,
   "metadata": {},
   "outputs": [],
   "source": [
    "import os\n",
    "import pandas as pd\n",
    "\n",
    "import pandasql as psql\n",
    "\n",
    "# hub\n",
    "h_user = pd.read_parquet(\"/home/sagemaker-user/dice_model_project/Project-/output/raw_vault/hubs/hub_user.parquet\")\n",
    "h_user_play_session = pd.read_parquet(\n",
    "    \"/home/sagemaker-user/dice_model_project/Project-/output/raw_vault/hubs/hub_user_play_session.parquet\"\n",
    ")\n",
    "h_user_payment_detail = pd.read_parquet(\n",
    "    \"/home/sagemaker-user/dice_model_project/Project-/output/raw_vault/hubs/hub_user_payment_detail.parquet\"\n",
    ")\n",
    "# hub_satellite\n",
    "\n",
    "hs_user_details = pd.read_parquet(\n",
    "    \"/home/sagemaker-user/dice_model_project/Project-/output/raw_vault/hub_satellite/user/hub_user.parquet\"\n",
    ")\n",
    "hs_user_registartion_details = pd.read_parquet(\n",
    "    \"/home/sagemaker-user/dice_model_project/Project-/output/raw_vault/hub_satellite/user_registration/hub_user_registration.parquet\"\n",
    ")\n",
    "hs_user_play_session = pd.read_parquet(\n",
    "    \"/home/sagemaker-user/dice_model_project/Project-/output/raw_vault/hub_satellite/user_play_session/sat_user_play_session_details.parquet\"\n",
    ")\n",
    "hs_user_plan = pd.read_parquet(\n",
    "    \"/home/sagemaker-user/dice_model_project/Project-/output/raw_vault/hub_satellite/user_plan/sat_user_plan_details.parquet\"\n",
    ")\n",
    "hs_user_payment_details = pd.read_parquet(\n",
    "    \"/home/sagemaker-user/dice_model_project/Project-/output/raw_vault/hub_satellite/user_payment_detail/sat_user_payment_detail_details.parquet\"\n",
    ")\n",
    "\n",
    "# link\n",
    "l_user_user_payment = pd.read_parquet(\n",
    "    \"/home/sagemaker-user/dice_model_project/Project-/output/raw_vault/links/user_registration_plan/link_user_registration_plan.parquet\"\n",
    ")\n",
    "\n",
    "l_user_user_play_channel = pd.read_parquet(\n",
    "    \"/home/sagemaker-user/dice_model_project/Project-/output/raw_vault/links/user_play_session/link_user_play_session.parquet\"\n",
    ")"
   ]
  },
  {
   "cell_type": "code",
   "execution_count": 26,
   "metadata": {},
   "outputs": [
    {
     "data": {
      "text/html": [
       "<div>\n",
       "<style scoped>\n",
       "    .dataframe tbody tr th:only-of-type {\n",
       "        vertical-align: middle;\n",
       "    }\n",
       "\n",
       "    .dataframe tbody tr th {\n",
       "        vertical-align: top;\n",
       "    }\n",
       "\n",
       "    .dataframe thead th {\n",
       "        text-align: right;\n",
       "    }\n",
       "</style>\n",
       "<table border=\"1\" class=\"dataframe\">\n",
       "  <thead>\n",
       "    <tr style=\"text-align: right;\">\n",
       "      <th></th>\n",
       "      <th>count(*)</th>\n",
       "      <th>channel_code</th>\n",
       "    </tr>\n",
       "  </thead>\n",
       "  <tbody>\n",
       "    <tr>\n",
       "      <th>0</th>\n",
       "      <td>941</td>\n",
       "      <td>BROWSER</td>\n",
       "    </tr>\n",
       "    <tr>\n",
       "      <th>1</th>\n",
       "      <td>931</td>\n",
       "      <td>MOBILE</td>\n",
       "    </tr>\n",
       "  </tbody>\n",
       "</table>\n",
       "</div>"
      ],
      "text/plain": [
       "   count(*) channel_code\n",
       "0       941      BROWSER\n",
       "1       931       MOBILE"
      ]
     },
     "execution_count": 26,
     "metadata": {},
     "output_type": "execute_result"
    }
   ],
   "source": [
    "query = \"\"\"\n",
    "select count(*), channel_code   \n",
    "FROM hs_user_play_session group by  channel_code \n",
    "\"\"\"\n",
    "\n",
    "result = psql.sqldf(query, globals())\n",
    "result.head()"
   ]
  },
  {
   "cell_type": "code",
   "execution_count": 56,
   "metadata": {},
   "outputs": [
    {
     "data": {
      "text/html": [
       "<div>\n",
       "<style scoped>\n",
       "    .dataframe tbody tr th:only-of-type {\n",
       "        vertical-align: middle;\n",
       "    }\n",
       "\n",
       "    .dataframe tbody tr th {\n",
       "        vertical-align: top;\n",
       "    }\n",
       "\n",
       "    .dataframe thead th {\n",
       "        text-align: right;\n",
       "    }\n",
       "</style>\n",
       "<table border=\"1\" class=\"dataframe\">\n",
       "  <thead>\n",
       "    <tr style=\"text-align: right;\">\n",
       "      <th></th>\n",
       "      <th>onetime_user</th>\n",
       "    </tr>\n",
       "  </thead>\n",
       "  <tbody>\n",
       "    <tr>\n",
       "      <th>0</th>\n",
       "      <td>75</td>\n",
       "    </tr>\n",
       "  </tbody>\n",
       "</table>\n",
       "</div>"
      ],
      "text/plain": [
       "   onetime_user\n",
       "0            75"
      ]
     },
     "execution_count": 56,
     "metadata": {},
     "output_type": "execute_result"
    }
   ],
   "source": [
    "query = \"\"\"\n",
    "select count(distinct a.user_id)  as 'onetime_user'\n",
    "FROM h_user a \n",
    "inner join l_user_user_payment b on\n",
    "b.user_id = a.user_id\n",
    " inner join h_user_payment_detail c \n",
    " on c.payment_detail_id\t = b.payment_detail_id\t\n",
    " inner join hs_user_plan d on d.hash_key = c.hash_key\n",
    "where payment_frequency_code = 'ONETIME'\n",
    "\"\"\"\n",
    "\n",
    "result = psql.sqldf(query, globals())\n",
    "result.head()"
   ]
  },
  {
   "cell_type": "code",
   "execution_count": 57,
   "metadata": {},
   "outputs": [
    {
     "data": {
      "text/html": [
       "<div>\n",
       "<style scoped>\n",
       "    .dataframe tbody tr th:only-of-type {\n",
       "        vertical-align: middle;\n",
       "    }\n",
       "\n",
       "    .dataframe tbody tr th {\n",
       "        vertical-align: top;\n",
       "    }\n",
       "\n",
       "    .dataframe thead th {\n",
       "        text-align: right;\n",
       "    }\n",
       "</style>\n",
       "<table border=\"1\" class=\"dataframe\">\n",
       "  <thead>\n",
       "    <tr style=\"text-align: right;\">\n",
       "      <th></th>\n",
       "      <th>subscribed_user</th>\n",
       "    </tr>\n",
       "  </thead>\n",
       "  <tbody>\n",
       "    <tr>\n",
       "      <th>0</th>\n",
       "      <td>140</td>\n",
       "    </tr>\n",
       "  </tbody>\n",
       "</table>\n",
       "</div>"
      ],
      "text/plain": [
       "   subscribed_user\n",
       "0              140"
      ]
     },
     "execution_count": 57,
     "metadata": {},
     "output_type": "execute_result"
    }
   ],
   "source": [
    "query = \"\"\"\n",
    "select count(distinct a.user_id)  as 'subscribed_user'\n",
    "FROM h_user a \n",
    "inner join l_user_user_payment b on\n",
    "b.user_id = a.user_id\n",
    " inner join h_user_payment_detail c \n",
    " on c.payment_detail_id\t = b.payment_detail_id\t\n",
    " inner join hs_user_plan d on d.hash_key = c.hash_key\n",
    "where payment_frequency_code != 'ONETIME'\n",
    "\"\"\"\n",
    "\n",
    "result = psql.sqldf(query, globals())\n",
    "result.head()"
   ]
  },
  {
   "cell_type": "code",
   "execution_count": 66,
   "metadata": {},
   "outputs": [
    {
     "data": {
      "text/html": [
       "<div>\n",
       "<style scoped>\n",
       "    .dataframe tbody tr th:only-of-type {\n",
       "        vertical-align: middle;\n",
       "    }\n",
       "\n",
       "    .dataframe tbody tr th {\n",
       "        vertical-align: top;\n",
       "    }\n",
       "\n",
       "    .dataframe thead th {\n",
       "        text-align: right;\n",
       "    }\n",
       "</style>\n",
       "<table border=\"1\" class=\"dataframe\">\n",
       "  <thead>\n",
       "    <tr style=\"text-align: right;\">\n",
       "      <th></th>\n",
       "      <th>total_payment_amount</th>\n",
       "    </tr>\n",
       "  </thead>\n",
       "  <tbody>\n",
       "    <tr>\n",
       "      <th>0</th>\n",
       "      <td>863.05</td>\n",
       "    </tr>\n",
       "  </tbody>\n",
       "</table>\n",
       "</div>"
      ],
      "text/plain": [
       "   total_payment_amount\n",
       "0                863.05"
      ]
     },
     "execution_count": 66,
     "metadata": {},
     "output_type": "execute_result"
    }
   ],
   "source": [
    "query = \"\"\"SELECT \n",
    "    SUM(\n",
    "        CASE d.payment_frequency_code\n",
    "            WHEN 'ANNUALLY' THEN 9.99\n",
    "            WHEN 'ONETIME' THEN 14.99\n",
    "            WHEN 'MONTHLY' THEN 1.99\n",
    "            ELSE 0\n",
    "        END\n",
    "    ) AS total_payment_amount\n",
    "FROM h_user a\n",
    "INNER JOIN l_user_user_payment b \n",
    "    ON b.user_id = a.user_id\n",
    "INNER JOIN h_user_payment_detail c \n",
    "    ON c.payment_detail_id = b.payment_detail_id\n",
    "INNER JOIN hs_user_plan d \n",
    "    ON d.hash_key = c.hash_key\n",
    "INNER JOIN hs_user_payment_details e \n",
    "    ON a.hash_key = e.hash_key;\n",
    "\n",
    "\n",
    "\n",
    "\"\"\"\n",
    "\n",
    "result = psql.sqldf(query, globals())\n",
    "result.head()"
   ]
  }
 ],
 "metadata": {
  "language_info": {
   "name": "python"
  }
 },
 "nbformat": 4,
 "nbformat_minor": 2
}
